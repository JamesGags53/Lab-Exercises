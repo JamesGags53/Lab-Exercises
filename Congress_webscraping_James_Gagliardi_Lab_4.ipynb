{
 "cells": [
  {
   "cell_type": "code",
   "execution_count": 7,
   "id": "e49e104f",
   "metadata": {},
   "outputs": [],
   "source": [
    "# Webscrape for Library of Congress search results\n",
    "import requests\n",
    "from bs4 import BeautifulSoup\n",
    "import csv\n",
    "\n",
    "# Sets up the CSV file\n",
    "csv_file = open('lab_4_Congress_scrape_results.csv', 'w', newline='', encoding='utf-8')\n",
    "writer = csv.writer(csv_file)\n",
    "writer.writerow(['Title', 'Description', 'Link', 'Contributor', 'Date'])\n",
    "\n",
    "# Loops through the first 5 pages of search results\n",
    "for i in range(1, 6):\n",
    "    # Get the page URL\n",
    "    url = f'https://www.loc.gov/search/?q=cats&sp={i}'\n",
    "\n",
    "   \n",
    "    response = requests.get(url)\n",
    "    soup = BeautifulSoup(response.content, 'html.parser')\n",
    "\n",
    " \n",
    "    items = soup.find_all('li', class_='item')\n",
    "\n",
    "    # Loops through each item and extract the relevant information\n",
    "    for item in items:\n",
    "        title_elem = item.find('a', class_='item-title')\n",
    "        title = title_elem.text.strip() if title_elem else ''\n",
    "\n",
    "        desc_elem = item.find('div', class_='item-description')\n",
    "        description = desc_elem.text.strip() if desc_elem else ''\n",
    "\n",
    "        link_elem = item.find('a', class_='item-title')\n",
    "        link = link_elem['href'] if link_elem else ''\n",
    "\n",
    "        # Extracts the contributor and date\n",
    "        contributor_and_date_elem = item.find('div', class_='item-contributor')\n",
    "        contributor_and_date = contributor_and_date_elem.text.strip() if contributor_and_date_elem else ''\n",
    "\n",
    "        contributor, date = contributor_and_date.split(' | ') if contributor_and_date else ('', '')\n",
    "\n",
    "        # Writes the data to the CSV file\n",
    "        writer.writerow([title, description, link, contributor, date])\n",
    "\n",
    "csv_file.close()\n"
   ]
  },
  {
   "cell_type": "code",
   "execution_count": null,
   "id": "af573fb1",
   "metadata": {},
   "outputs": [],
   "source": []
  }
 ],
 "metadata": {
  "kernelspec": {
   "display_name": "Python 3 (ipykernel)",
   "language": "python",
   "name": "python3"
  },
  "language_info": {
   "codemirror_mode": {
    "name": "ipython",
    "version": 3
   },
   "file_extension": ".py",
   "mimetype": "text/x-python",
   "name": "python",
   "nbconvert_exporter": "python",
   "pygments_lexer": "ipython3",
   "version": "3.9.12"
  }
 },
 "nbformat": 4,
 "nbformat_minor": 5
}
