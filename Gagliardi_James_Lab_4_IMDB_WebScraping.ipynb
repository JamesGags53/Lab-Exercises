{
 "cells": [
  {
   "cell_type": "code",
   "execution_count": 1,
   "id": "d12ed78f",
   "metadata": {},
   "outputs": [
    {
     "name": "stdout",
     "output_type": "stream",
     "text": [
      "Requirement already satisfied: requests in c:\\users\\zuccn\\anaconda3\\lib\\site-packages (2.27.1)\n",
      "Requirement already satisfied: idna<4,>=2.5 in c:\\users\\zuccn\\anaconda3\\lib\\site-packages (from requests) (3.3)\n",
      "Requirement already satisfied: urllib3<1.27,>=1.21.1 in c:\\users\\zuccn\\anaconda3\\lib\\site-packages (from requests) (1.26.9)\n",
      "Requirement already satisfied: certifi>=2017.4.17 in c:\\users\\zuccn\\anaconda3\\lib\\site-packages (from requests) (2021.10.8)\n",
      "Requirement already satisfied: charset-normalizer~=2.0.0 in c:\\users\\zuccn\\anaconda3\\lib\\site-packages (from requests) (2.0.4)\n",
      "Requirement already satisfied: beautifulsoup4 in c:\\users\\zuccn\\anaconda3\\lib\\site-packages (4.11.1)\n",
      "Requirement already satisfied: soupsieve>1.2 in c:\\users\\zuccn\\anaconda3\\lib\\site-packages (from beautifulsoup4) (2.3.1)\n"
     ]
    }
   ],
   "source": [
    "# webscrape for the IMDB top 100\n",
    "!pip install requests\n",
    "!pip install beautifulsoup4\n",
    "# imports to use in webscrape\n",
    "import requests\n",
    "from bs4 import BeautifulSoup\n",
    "import csv\n",
    "# get url and set beatifulsoup\n",
    "url = \"https://www.imdb.com/chart/top/\"\n",
    "response = requests.get(url)\n",
    "soup = BeautifulSoup(response.content, \"html.parser\")\n",
    "\n",
    "table = soup.find(\"tbody\", {\"class\": \"lister-list\"})\n",
    "rows = table.findAll(\"tr\")\n",
    "# iterating through rows to find the data we are looking to catagorize\n",
    "data = []\n",
    "for row in rows:\n",
    "    title = row.find(\"td\", {\"class\": \"titleColumn\"}).find(\"a\").text\n",
    "    year = row.find(\"td\", {\"class\": \"titleColumn\"}).find(\"span\", {\"class\": \"secondaryInfo\"}).text\n",
    "    rating = row.find(\"td\", {\"class\": \"ratingColumn imdbRating\"}).find(\"strong\").text\n",
    "    data.append((title, year, rating))\n",
    "# creating csv file and opening it for writing\n",
    "with open(\"top_100_movies.csv\", \"w\", newline=\"\", encoding=\"utf-8\") as f:\n",
    "    writer = csv.writer(f)\n",
    "    writer.writerow([\"Title\", \"Year\", \"Rating\"])\n",
    "    for item in data:\n",
    "        writer.writerow(item)"
   ]
  },
  {
   "cell_type": "code",
   "execution_count": null,
   "id": "47c59fc0",
   "metadata": {},
   "outputs": [],
   "source": []
  }
 ],
 "metadata": {
  "kernelspec": {
   "display_name": "Python 3 (ipykernel)",
   "language": "python",
   "name": "python3"
  },
  "language_info": {
   "codemirror_mode": {
    "name": "ipython",
    "version": 3
   },
   "file_extension": ".py",
   "mimetype": "text/x-python",
   "name": "python",
   "nbconvert_exporter": "python",
   "pygments_lexer": "ipython3",
   "version": "3.9.12"
  }
 },
 "nbformat": 4,
 "nbformat_minor": 5
}
