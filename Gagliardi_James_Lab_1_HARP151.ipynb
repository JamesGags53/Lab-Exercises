{
 "cells": [
  {
   "cell_type": "markdown",
   "id": "29cddc37",
   "metadata": {},
   "source": [
    "1. See the list below. Please write a program that will tell you what the longest word is in the list. Package your program inside of a function."
   ]
  },
  {
   "cell_type": "code",
   "execution_count": 2,
   "id": "522a00a0",
   "metadata": {},
   "outputs": [],
   "source": [
    "myList = [\"apple\", \"chestnut\", \"gargoyle\", \"pandas\", \"sheep\", \"raptor\"]"
   ]
  },
  {
   "cell_type": "code",
   "execution_count": 15,
   "id": "1a36f441",
   "metadata": {},
   "outputs": [
    {
     "name": "stdout",
     "output_type": "stream",
     "text": [
      "chestnut\n"
     ]
    }
   ],
   "source": [
    "myList = [\"apple\", \"chestnut\", \"gargoyle\", \"pandas\", \"sheep\", \"raptor\"]\n",
    "def find_longest_word(myList):\n",
    "    longest_word = \" \"\n",
    "    for word in myList:\n",
    "        if len(word) > len(longest_word):\n",
    "            longest_word = word\n",
    "    return longest_word\n",
    "print(find_longest_word(myList))"
   ]
  },
  {
   "cell_type": "markdown",
   "id": "ef4539f9",
   "metadata": {},
   "source": [
    "2. Now that you have built the program above, in a new cell, edit your program: import a .txt file of a list of words and have your program randomly choose 7 words from the file to add to a list, and then have the program determine the longest word as you did above."
   ]
  },
  {
   "cell_type": "code",
   "execution_count": 27,
   "id": "8875f2dc",
   "metadata": {},
   "outputs": [
    {
     "name": "stdout",
     "output_type": "stream",
     "text": [
      "['method', 'homes', 'whats', 'accessed', 'illinois', 'tin', 'gregory']\n",
      "accessed\n"
     ]
    }
   ],
   "source": [
    "def get():\n",
    "    with open(\"wordlist.10000.txt\") as x: #used MIT.edu's list of 1000 words\n",
    "        words = x.readlines()\n",
    "        words = [word.strip() for word in words]\n",
    "        selected_words = random.sample(words, 7)\n",
    "        print(selected_words)\n",
    "        longest = find_longest_word(selected_words)\n",
    "        print(longest)\n",
    "get()"
   ]
  },
  {
   "cell_type": "markdown",
   "id": "68767317",
   "metadata": {},
   "source": [
    "3. Pretend that you're going to be leading a review session on dictionaries. Build a program that uses dictionaries and incorporates at least 4 built-in methods. See full list on W3Schools"
   ]
  },
  {
   "cell_type": "code",
   "execution_count": 2,
   "id": "50267fb4",
   "metadata": {},
   "outputs": [
    {
     "name": "stdout",
     "output_type": "stream",
     "text": [
      "Keys in the dictionary: dict_keys(['The Maltese Falcon', 'The Aenied', 'Intro to Noir', \"Dante's Inferno\"])\n",
      "The Aenied's price is 10 dollars\n",
      "Values in the dictionary: dict_values([12, 10, 8, 9])\n",
      "Items in the dictionary: dict_items([('The Maltese Falcon', 12), ('The Aenied', 10), ('Intro to Noir', 8), (\"Dante's Inferno\", 9)])\n"
     ]
    }
   ],
   "source": [
    "def get():\n",
    "    book_prices = {\"The Maltese Falcon\": 12, \"The Aenied\": 10, \"Intro to Noir\": 8, \"Dante's Inferno\": 9}\n",
    "    keys = book_prices.keys()\n",
    "    print(\"Keys in the dictionary:\", keys)\n",
    "    Aenied_price = book_prices.get(\"The Aenied\")\n",
    "    print(\"The Aenied's price is\", Aenied_price, \"dollars\")\n",
    "    values = book_prices.values()\n",
    "    print(\"Values in the dictionary:\", values)\n",
    "    items = book_prices.items()\n",
    "    print(\"Items in the dictionary:\", items)\n",
    "\n",
    "get()"
   ]
  },
  {
   "cell_type": "markdown",
   "id": "6f9ead60",
   "metadata": {},
   "source": [
    "4. Using OOP, I want you to build one of the following things. As part of the excerise, please write out your brainstorming process in a comment or markdown cell:\n",
    "A system to manage a student's school record (would need a way to gather/store personal information, record grades, record GPA, etc.)\n",
    "A class that allows you to create your own flashcards & then allows you to review them (this would work best with language cards - like one word is in Spanish, one in English)\n",
    "A class (or series of classes) to correspond with a gameplay (for example, a fighter class, a bard class, a wizard class)"
   ]
  },
  {
   "cell_type": "code",
   "execution_count": 19,
   "id": "3441b52b",
   "metadata": {},
   "outputs": [
    {
     "name": "stdout",
     "output_type": "stream",
     "text": [
      "{'Name': 'James Gagliardi', 'Age': 18, 'Grade': 12, 'Courses': ['Economics', 'Sports Marketing', 'Performance', 'Film'], 'Grades': {'Economics': 95, 'Sports Marketing': 96, 'Performance': 80, 'Film': 90}, 'Senior Year GPA': 90.25}\n",
      "None\n"
     ]
    }
   ],
   "source": [
    "class Student_Record:  #first option\n",
    "    def __init__(self, name, age, grade, courses):\n",
    "        self.name = name\n",
    "        self.age = age\n",
    "        self.grade = grade\n",
    "        self.courses = courses\n",
    "        self.grades = {}\n",
    "        self.gpa = 0.0\n",
    "    def add_grade(self, course, grade):\n",
    "        self.grades[course] = grade\n",
    "    def calculate_gpa_senior_year(self):\n",
    "        total_grades = sum(self.grades.values())\n",
    "        self.gpa = total_grades / len(self.courses)\n",
    "    def info(self):\n",
    "        print ({\"Name\": self.name,\n",
    "               \"Age\": self.age,\n",
    "               \"Grade\": self.grade,\n",
    "               \"Courses\": self.courses,\n",
    "               \"Grades\": self.grades,\n",
    "               \"Senior Year GPA\": self.gpa})\n",
    "student = Student_Record(\"James Gagliardi\", 18, 12, [\"Economics\", \"Sports Marketing\", \"Performance\", \"Film\"])\n",
    "student.add_grade(\"Economics\", 95)\n",
    "student.add_grade(\"Sports Marketing\", 96)\n",
    "student.add_grade(\"Performance\", 80)\n",
    "student.add_grade(\"Film\", 90)\n",
    "student.calculate_gpa_senior_year()\n",
    "print(student.info())"
   ]
  },
  {
   "cell_type": "markdown",
   "id": "e82e6495",
   "metadata": {},
   "source": [
    "5. Finalize your Hangman program and submit it. Include any necessary comments and explain what you had \"refreshed\" by building it in class. If appropriate, use functions or OOP to package the pieces of your code."
   ]
  },
  {
   "cell_type": "code",
   "execution_count": null,
   "id": "b58bcdbc",
   "metadata": {},
   "outputs": [],
   "source": [
    "import random #ORIGINAL CODE WITHOUT CLASS\n",
    "def hangman():\n",
    "    tries = 6\n",
    "    word = \"candy\"\n",
    "    guesses = ' '\n",
    "    \n",
    "    while tries != 0:\n",
    "        letter = input(\"Choose a letter: \")\n",
    "        if letter not in word:\n",
    "            tries -= 1\n",
    "            print(f\"Wrong! You have {tries} left\")\n",
    "        elif letter in word[0]:\n",
    "            print(\"Correct, choose another letter\")\n",
    "            print(\"c____\")\n",
    "        elif letter in word[1]:\n",
    "            print(\"Correct, choose another letter\")\n",
    "            print(\"_a___\")\n",
    "        elif letter in word[2]:\n",
    "            print(\"Correct, choose another letter\")\n",
    "            print(\"__n__\")\n",
    "        elif letter in word[3]:\n",
    "            print(\"Correct, choose another letter\")\n",
    "            print(\"___d_\")\n",
    "        elif letter in word[4]:\n",
    "            print(\"Correct, choose another letter\")\n",
    "            print(\"____y\")\n",
    "\n",
    "hangman()"
   ]
  },
  {
   "cell_type": "code",
   "execution_count": null,
   "id": "e316117f",
   "metadata": {},
   "outputs": [
    {
     "name": "stdout",
     "output_type": "stream",
     "text": [
      "Choose a letter: c\n",
      "Correct, choose another letter\n",
      "c____\n",
      "Choose a letter: a\n",
      "Correct, choose another letter\n",
      "_a___\n",
      "Choose a letter: n\n",
      "Correct, choose another letter\n",
      "__n__\n",
      "Choose a letter: dy\n",
      "Choose a letter: y\n",
      "Correct, choose another letter\n",
      "____y\n",
      "Choose a letter: l\n",
      "Wrong! You have 5 left\n",
      "Choose a letter: n\n",
      "Correct, choose another letter\n",
      "__n__\n",
      "Choose a letter: m\n",
      "Wrong! You have 4 left\n"
     ]
    }
   ],
   "source": [
    "import random #NEW CODE WITH CLASS IMPLEMENTED\n",
    "\n",
    "class Hangman: #by using class here we can create a more easy to read and complex code that works reliably\n",
    "    def __init__(self, word, tries=6): #similar to orginal code but these values are now outlined within __init__\n",
    "        self.word = word\n",
    "        self.tries = tries\n",
    "        self.guesses = ' '\n",
    "        \n",
    "    def play_game(self): \n",
    "        while self.tries != 0:\n",
    "            letter = input(\"Choose a letter: \")\n",
    "            if letter not in self.word:\n",
    "                self.tries -= 1\n",
    "                print(f\"Wrong! You have {self.tries} left\")\n",
    "            elif letter in self.word[0]:\n",
    "                print(\"Correct, choose another letter\")\n",
    "                print(\"c____\")\n",
    "            elif letter in self.word[1]:\n",
    "                print(\"Correct, choose another letter\")\n",
    "                print(\"_a___\")\n",
    "            elif letter in self.word[2]:\n",
    "                print(\"Correct, choose another letter\")\n",
    "                print(\"__n__\")\n",
    "            elif letter in self.word[3]:\n",
    "                print(\"Correct, choose another letter\")\n",
    "                print(\"___d_\")\n",
    "            elif letter in self.word[4]:\n",
    "                print(\"Correct, choose another letter\")\n",
    "                print(\"____y\")\n",
    "\n",
    "game = Hangman(\"candy\")\n",
    "game.play_game()"
   ]
  },
  {
   "cell_type": "code",
   "execution_count": null,
   "id": "7b27b889",
   "metadata": {},
   "outputs": [],
   "source": []
  }
 ],
 "metadata": {
  "kernelspec": {
   "display_name": "Python 3 (ipykernel)",
   "language": "python",
   "name": "python3"
  },
  "language_info": {
   "codemirror_mode": {
    "name": "ipython",
    "version": 3
   },
   "file_extension": ".py",
   "mimetype": "text/x-python",
   "name": "python",
   "nbconvert_exporter": "python",
   "pygments_lexer": "ipython3",
   "version": "3.9.12"
  }
 },
 "nbformat": 4,
 "nbformat_minor": 5
}
