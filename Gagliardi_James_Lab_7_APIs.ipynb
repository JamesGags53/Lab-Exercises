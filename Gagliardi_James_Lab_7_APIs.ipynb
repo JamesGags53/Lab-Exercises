{
 "cells": [
  {
   "cell_type": "code",
   "execution_count": 1,
   "id": "f235477e",
   "metadata": {},
   "outputs": [],
   "source": [
    "import csv\n",
    "import requests\n",
    "\n",
    "url = 'https://api.weather.gov/gridpoints/TOP/31,80/forecast'\n",
    "response = requests.get(url)\n",
    "data = response.json()\n",
    "periods = data['properties']['periods']\n",
    "data_list = []\n",
    "for period in periods:\n",
    "    data_dict = {'day': period['name'], 'details': period['detailedForecast'], 'temperature': period['temperature']}\n",
    "    data_list.append(data_dict)\n",
    "with open('weather_data.csv', 'w', newline='') as file:\n",
    "    writer = csv.DictWriter(file, fieldnames=['day', 'details', 'temperature'])\n",
    "    writer.writeheader()\n",
    "    for data_dict in data_list:\n",
    "        writer.writerow(data_dict)\n"
   ]
  },
  {
   "cell_type": "code",
   "execution_count": 2,
   "id": "2b190570",
   "metadata": {},
   "outputs": [
    {
     "data": {
      "text/plain": [
       "Text(0.5, 1.0, 'Temperature Forecast')"
      ]
     },
     "execution_count": 2,
     "metadata": {},
     "output_type": "execute_result"
    },
    {
     "data": {
      "image/png": "[encoded data removed]",
      "text/plain": [
       "<Figure size 1800x504 with 1 Axes>"
      ]
     },
     "metadata": {
      "needs_background": "light"
     },
     "output_type": "display_data"
    }
   ],
   "source": [
    "import pandas as pd\n",
    "import matplotlib.pyplot as plt\n",
    "\n",
    "# Read the CSV file into a pandas dataframe\n",
    "df = pd.read_csv('weather_data.csv')\n",
    "\n",
    "# Create a bar graph\n",
    "fig = plt.figure(figsize = (25,7))\n",
    "plt.bar(df['day'], df['temperature'])\n",
    "\n",
    "# Set axis labels and title\n",
    "plt.xlabel('Day')\n",
    "plt.ylabel('Temperature')\n",
    "plt.title('Temperature Forecast')\n"
   ]
  },
  {
   "cell_type": "code",
   "execution_count": 4,
   "id": "80c46dbd",
   "metadata": {},
   "outputs": [
    {
     "name": "stdout",
     "output_type": "stream",
     "text": [
      "New Year's Day 2023-01-02\n",
      "Martin Luther King, Jr. Day 2023-01-16\n",
      "Washington's Birthday 2023-02-20\n",
      "Good Friday 2023-04-07\n",
      "Good Friday 2023-04-07\n",
      "Memorial Day 2023-05-29\n",
      "Juneteenth 2023-06-19\n",
      "Independence Day 2023-07-04\n",
      "Labour Day 2023-09-04\n",
      "Columbus Day 2023-10-09\n",
      "Veterans Day 2023-11-10\n",
      "Thanksgiving Day 2023-11-23\n",
      "Christmas Day 2023-12-25\n"
     ]
    }
   ],
   "source": [
    "import requests\n",
    "# PublicHolidays/{year}/{countryCode} - This endpoint returns a list of public holidays for a year and country. You can specify the year and the country code in the URL, and the API will return a list of public holidays, along with their date, name, and type (e.g., national, local, or observance).\n",
    "url = \"https://date.nager.at/api/v3/PublicHolidays/2023/US\"\n",
    "response = requests.get(url)\n",
    "data = response.json()\n",
    "\n",
    "# Prints the name and date of each public holiday\n",
    "for holiday in data:\n",
    "    print(holiday[\"name\"], holiday[\"date\"])"
   ]
  },
  {
   "cell_type": "code",
   "execution_count": 5,
   "id": "2d327a08",
   "metadata": {},
   "outputs": [
    {
     "name": "stdout",
     "output_type": "stream",
     "text": [
      "Andorra AD\n",
      "Albania AL\n",
      "Argentina AR\n",
      "Austria AT\n",
      "Australia AU\n",
      "Åland Islands AX\n",
      "Bosnia and Herzegovina BA\n",
      "Barbados BB\n",
      "Belgium BE\n",
      "Bulgaria BG\n",
      "Benin BJ\n",
      "Bolivia BO\n",
      "Brazil BR\n",
      "Bahamas BS\n",
      "Botswana BW\n",
      "Belarus BY\n",
      "Belize BZ\n",
      "Canada CA\n",
      "Switzerland CH\n",
      "Chile CL\n",
      "China CN\n",
      "Colombia CO\n",
      "Costa Rica CR\n",
      "Cuba CU\n",
      "Cyprus CY\n",
      "Czechia CZ\n",
      "Germany DE\n",
      "Denmark DK\n",
      "Dominican Republic DO\n",
      "Ecuador EC\n",
      "Estonia EE\n",
      "Egypt EG\n",
      "Spain ES\n",
      "Finland FI\n",
      "Faroe Islands FO\n",
      "France FR\n",
      "Gabon GA\n",
      "United Kingdom GB\n",
      "Grenada GD\n",
      "Guernsey GG\n",
      "Gibraltar GI\n",
      "Greenland GL\n",
      "Gambia GM\n",
      "Greece GR\n",
      "Guatemala GT\n",
      "Guyana GY\n",
      "Honduras HN\n",
      "Croatia HR\n",
      "Haiti HT\n",
      "Hungary HU\n",
      "Indonesia ID\n",
      "Ireland IE\n",
      "Isle of Man IM\n",
      "Iceland IS\n",
      "Italy IT\n",
      "Jersey JE\n",
      "Jamaica JM\n",
      "Japan JP\n",
      "South Korea KR\n",
      "Liechtenstein LI\n",
      "Lesotho LS\n",
      "Lithuania LT\n",
      "Luxembourg LU\n",
      "Latvia LV\n",
      "Morocco MA\n",
      "Monaco MC\n",
      "Moldova MD\n",
      "Montenegro ME\n",
      "Madagascar MG\n",
      "North Macedonia MK\n",
      "Mongolia MN\n",
      "Montserrat MS\n",
      "Malta MT\n",
      "Mexico MX\n",
      "Mozambique MZ\n",
      "Namibia NA\n",
      "Niger NE\n",
      "Nigeria NG\n",
      "Nicaragua NI\n",
      "Netherlands NL\n",
      "Norway NO\n",
      "New Zealand NZ\n",
      "Panama PA\n",
      "Peru PE\n",
      "Papua New Guinea PG\n",
      "Poland PL\n",
      "Puerto Rico PR\n",
      "Portugal PT\n",
      "Paraguay PY\n",
      "Romania RO\n",
      "Serbia RS\n",
      "Russia RU\n",
      "Sweden SE\n",
      "Singapore SG\n",
      "Slovenia SI\n",
      "Svalbard and Jan Mayen SJ\n",
      "Slovakia SK\n",
      "San Marino SM\n",
      "Suriname SR\n",
      "El Salvador SV\n",
      "Tunisia TN\n",
      "Turkey TR\n",
      "Ukraine UA\n",
      "United States US\n",
      "Uruguay UY\n",
      "Vatican City VA\n",
      "Venezuela VE\n",
      "Vietnam VN\n",
      "South Africa ZA\n",
      "Zimbabwe ZW\n"
     ]
    }
   ],
   "source": [
    "import requests\n",
    "# AvailableCountries - This endpoint returns a list of all the countries which the API provides public holiday data for. The API will return a list of country codes, along with the country's name and ISO code.\n",
    "url = \"https://date.nager.at/api/v3/AvailableCountries\"\n",
    "response = requests.get(url)\n",
    "data = response.json()\n",
    "\n",
    "# Prints the name and code of each country\n",
    "for country in data:\n",
    "    print(country[\"name\"], country[\"countryCode\"])\n"
   ]
  },
  {
   "cell_type": "code",
   "execution_count": 8,
   "id": "1472accf",
   "metadata": {},
   "outputs": [
    {
     "name": "stdout",
     "output_type": "stream",
     "text": [
      "2003-01-18 2003-01-20\n",
      "2003-02-15 2003-02-17\n",
      "2003-05-24 2003-05-26\n",
      "2003-07-04 2003-07-06\n",
      "2003-08-30 2003-09-01\n",
      "2003-11-08 2003-11-11\n",
      "2003-11-27 2003-11-30\n",
      "2003-12-25 2003-12-28\n"
     ]
    }
   ],
   "source": [
    "import requests\n",
    "# LongWeekend/{startYear}/{endYear}/{countryCode} - This endpoint returns a list of long weekends for a country, within a given date range. You can specify the start and end years, as well as the country code, in the URL. The API will return a list of long weekends, which are defined as a consecutive series of days off that includes a weekend and a public holiday.\n",
    "url = \"https://date.nager.at/api/v3/LongWeekend/2003/US\"\n",
    "country_code = \"US\" # Replace with the country code you want to retrieve the long weekends for\n",
    "response = requests.get(url.format(countryCode=country_code))\n",
    "data = response.json()\n",
    "\n",
    "# Prints the start and end dates of each long weekend\n",
    "for long_weekend in data:\n",
    "    print(long_weekend[\"startDate\"], long_weekend[\"endDate\"])"
   ]
  },
  {
   "cell_type": "code",
   "execution_count": 6,
   "id": "80368ade",
   "metadata": {},
   "outputs": [
    {
     "name": "stdout",
     "output_type": "stream",
     "text": [
      "New Year's Day 2023-01-02\n",
      "Martin Luther King, Jr. Day 2023-01-16\n",
      "Washington's Birthday 2023-02-20\n",
      "Good Friday 2023-04-07\n",
      "Good Friday 2023-04-07\n",
      "Memorial Day 2023-05-29\n",
      "Juneteenth 2023-06-19\n",
      "Independence Day 2023-07-04\n",
      "Labour Day 2023-09-04\n",
      "Columbus Day 2023-10-09\n",
      "Veterans Day 2023-11-10\n",
      "Thanksgiving Day 2023-11-23\n",
      "Christmas Day 2023-12-25\n"
     ]
    }
   ],
   "source": [
    "import requests\n",
    "# NextPublicHolidays/{countryCode} - This endpoint returns a list of the next public holidays for a country. You can specify the country code in the URL, and the API will return a list of the next public holidays, along with their date, name, and type.\n",
    "url = \"https://date.nager.at/api/v3/PublicHolidays/{year}/{countryCode}\"\n",
    "year = \"2023\" # Replace with the year you want to retrieve the public holidays for\n",
    "country_code = \"US\" # Replace with the country code you want to retrieve the public holidays for\n",
    "response = requests.get(url.format(year=year, countryCode=country_code))\n",
    "data = response.json()\n",
    "\n",
    "# Prints the name and date of each public holiday\n",
    "for holiday in data:\n",
    "    print(holiday[\"name\"], holiday[\"date\"])"
   ]
  },
  {
   "cell_type": "code",
   "execution_count": 7,
   "id": "278784c9",
   "metadata": {},
   "outputs": [
    {
     "ename": "JSONDecodeError",
     "evalue": "[Errno Expecting value] : 0",
     "output_type": "error",
     "traceback": [
      "\u001b[1;31m---------------------------------------------------------------------------\u001b[0m",
      "\u001b[1;31mJSONDecodeError\u001b[0m                           Traceback (most recent call last)",
      "File \u001b[1;32m~\\anaconda3\\lib\\site-packages\\requests\\models.py:910\u001b[0m, in \u001b[0;36mResponse.json\u001b[1;34m(self, **kwargs)\u001b[0m\n\u001b[0;32m    909\u001b[0m \u001b[38;5;28;01mtry\u001b[39;00m:\n\u001b[1;32m--> 910\u001b[0m     \u001b[38;5;28;01mreturn\u001b[39;00m complexjson\u001b[38;5;241m.\u001b[39mloads(\u001b[38;5;28mself\u001b[39m\u001b[38;5;241m.\u001b[39mtext, \u001b[38;5;241m*\u001b[39m\u001b[38;5;241m*\u001b[39mkwargs)\n\u001b[0;32m    911\u001b[0m \u001b[38;5;28;01mexcept\u001b[39;00m JSONDecodeError \u001b[38;5;28;01mas\u001b[39;00m e:\n\u001b[0;32m    912\u001b[0m     \u001b[38;5;66;03m# Catch JSON-related errors and raise as requests.JSONDecodeError\u001b[39;00m\n\u001b[0;32m    913\u001b[0m     \u001b[38;5;66;03m# This aliases json.JSONDecodeError and simplejson.JSONDecodeError\u001b[39;00m\n",
      "File \u001b[1;32m~\\anaconda3\\lib\\json\\__init__.py:346\u001b[0m, in \u001b[0;36mloads\u001b[1;34m(s, cls, object_hook, parse_float, parse_int, parse_constant, object_pairs_hook, **kw)\u001b[0m\n\u001b[0;32m    343\u001b[0m \u001b[38;5;28;01mif\u001b[39;00m (\u001b[38;5;28mcls\u001b[39m \u001b[38;5;129;01mis\u001b[39;00m \u001b[38;5;28;01mNone\u001b[39;00m \u001b[38;5;129;01mand\u001b[39;00m object_hook \u001b[38;5;129;01mis\u001b[39;00m \u001b[38;5;28;01mNone\u001b[39;00m \u001b[38;5;129;01mand\u001b[39;00m\n\u001b[0;32m    344\u001b[0m         parse_int \u001b[38;5;129;01mis\u001b[39;00m \u001b[38;5;28;01mNone\u001b[39;00m \u001b[38;5;129;01mand\u001b[39;00m parse_float \u001b[38;5;129;01mis\u001b[39;00m \u001b[38;5;28;01mNone\u001b[39;00m \u001b[38;5;129;01mand\u001b[39;00m\n\u001b[0;32m    345\u001b[0m         parse_constant \u001b[38;5;129;01mis\u001b[39;00m \u001b[38;5;28;01mNone\u001b[39;00m \u001b[38;5;129;01mand\u001b[39;00m object_pairs_hook \u001b[38;5;129;01mis\u001b[39;00m \u001b[38;5;28;01mNone\u001b[39;00m \u001b[38;5;129;01mand\u001b[39;00m \u001b[38;5;129;01mnot\u001b[39;00m kw):\n\u001b[1;32m--> 346\u001b[0m     \u001b[38;5;28;01mreturn\u001b[39;00m \u001b[43m_default_decoder\u001b[49m\u001b[38;5;241;43m.\u001b[39;49m\u001b[43mdecode\u001b[49m\u001b[43m(\u001b[49m\u001b[43ms\u001b[49m\u001b[43m)\u001b[49m\n\u001b[0;32m    347\u001b[0m \u001b[38;5;28;01mif\u001b[39;00m \u001b[38;5;28mcls\u001b[39m \u001b[38;5;129;01mis\u001b[39;00m \u001b[38;5;28;01mNone\u001b[39;00m:\n",
      "File \u001b[1;32m~\\anaconda3\\lib\\json\\decoder.py:337\u001b[0m, in \u001b[0;36mJSONDecoder.decode\u001b[1;34m(self, s, _w)\u001b[0m\n\u001b[0;32m    333\u001b[0m \u001b[38;5;124;03m\"\"\"Return the Python representation of ``s`` (a ``str`` instance\u001b[39;00m\n\u001b[0;32m    334\u001b[0m \u001b[38;5;124;03mcontaining a JSON document).\u001b[39;00m\n\u001b[0;32m    335\u001b[0m \n\u001b[0;32m    336\u001b[0m \u001b[38;5;124;03m\"\"\"\u001b[39;00m\n\u001b[1;32m--> 337\u001b[0m obj, end \u001b[38;5;241m=\u001b[39m \u001b[38;5;28;43mself\u001b[39;49m\u001b[38;5;241;43m.\u001b[39;49m\u001b[43mraw_decode\u001b[49m\u001b[43m(\u001b[49m\u001b[43ms\u001b[49m\u001b[43m,\u001b[49m\u001b[43m \u001b[49m\u001b[43midx\u001b[49m\u001b[38;5;241;43m=\u001b[39;49m\u001b[43m_w\u001b[49m\u001b[43m(\u001b[49m\u001b[43ms\u001b[49m\u001b[43m,\u001b[49m\u001b[43m \u001b[49m\u001b[38;5;241;43m0\u001b[39;49m\u001b[43m)\u001b[49m\u001b[38;5;241;43m.\u001b[39;49m\u001b[43mend\u001b[49m\u001b[43m(\u001b[49m\u001b[43m)\u001b[49m\u001b[43m)\u001b[49m\n\u001b[0;32m    338\u001b[0m end \u001b[38;5;241m=\u001b[39m _w(s, end)\u001b[38;5;241m.\u001b[39mend()\n",
      "File \u001b[1;32m~\\anaconda3\\lib\\json\\decoder.py:355\u001b[0m, in \u001b[0;36mJSONDecoder.raw_decode\u001b[1;34m(self, s, idx)\u001b[0m\n\u001b[0;32m    354\u001b[0m \u001b[38;5;28;01mexcept\u001b[39;00m \u001b[38;5;167;01mStopIteration\u001b[39;00m \u001b[38;5;28;01mas\u001b[39;00m err:\n\u001b[1;32m--> 355\u001b[0m     \u001b[38;5;28;01mraise\u001b[39;00m JSONDecodeError(\u001b[38;5;124m\"\u001b[39m\u001b[38;5;124mExpecting value\u001b[39m\u001b[38;5;124m\"\u001b[39m, s, err\u001b[38;5;241m.\u001b[39mvalue) \u001b[38;5;28;01mfrom\u001b[39;00m \u001b[38;5;28mNone\u001b[39m\n\u001b[0;32m    356\u001b[0m \u001b[38;5;28;01mreturn\u001b[39;00m obj, end\n",
      "\u001b[1;31mJSONDecodeError\u001b[0m: Expecting value: line 1 column 1 (char 0)",
      "\nDuring handling of the above exception, another exception occurred:\n",
      "\u001b[1;31mJSONDecodeError\u001b[0m                           Traceback (most recent call last)",
      "Input \u001b[1;32mIn [7]\u001b[0m, in \u001b[0;36m<cell line: 7>\u001b[1;34m()\u001b[0m\n\u001b[0;32m      5\u001b[0m country_code \u001b[38;5;241m=\u001b[39m \u001b[38;5;124m\"\u001b[39m\u001b[38;5;124mus\u001b[39m\u001b[38;5;124m\"\u001b[39m \u001b[38;5;66;03m# Replace with the country code you want to check for public holidays\u001b[39;00m\n\u001b[0;32m      6\u001b[0m response \u001b[38;5;241m=\u001b[39m requests\u001b[38;5;241m.\u001b[39mget(url\u001b[38;5;241m.\u001b[39mformat(countryCode\u001b[38;5;241m=\u001b[39mcountry_code))\n\u001b[1;32m----> 7\u001b[0m data \u001b[38;5;241m=\u001b[39m \u001b[43mresponse\u001b[49m\u001b[38;5;241;43m.\u001b[39;49m\u001b[43mjson\u001b[49m\u001b[43m(\u001b[49m\u001b[43m)\u001b[49m\n\u001b[0;32m      9\u001b[0m \u001b[38;5;66;03m# Check if today is a public holiday\u001b[39;00m\n\u001b[0;32m     10\u001b[0m \u001b[38;5;28;01mif\u001b[39;00m data:\n",
      "File \u001b[1;32m~\\anaconda3\\lib\\site-packages\\requests\\models.py:917\u001b[0m, in \u001b[0;36mResponse.json\u001b[1;34m(self, **kwargs)\u001b[0m\n\u001b[0;32m    915\u001b[0m     \u001b[38;5;28;01mraise\u001b[39;00m RequestsJSONDecodeError(e\u001b[38;5;241m.\u001b[39mmessage)\n\u001b[0;32m    916\u001b[0m \u001b[38;5;28;01melse\u001b[39;00m:\n\u001b[1;32m--> 917\u001b[0m     \u001b[38;5;28;01mraise\u001b[39;00m RequestsJSONDecodeError(e\u001b[38;5;241m.\u001b[39mmsg, e\u001b[38;5;241m.\u001b[39mdoc, e\u001b[38;5;241m.\u001b[39mpos)\n",
      "\u001b[1;31mJSONDecodeError\u001b[0m: [Errno Expecting value] : 0"
     ]
    }
   ],
   "source": [
    "import requests\n",
    "from datetime import date\n",
    "\n",
    "url = \"https://date.nager.at/api/v3/IsTodayPublicHoliday/us?countyCode=us&offset=0\"\n",
    "country_code = \"us\" # Replace with the country code you want to check for public holidays\n",
    "response = requests.get(url.format(countryCode=country_code))\n",
    "data = response.json()\n",
    "\n",
    "# Check if today is a public holiday\n",
    "if data:\n",
    "    print(f\"Today is a public holiday in {country_code}.\")\n",
    "else:\n",
    "    print(f\"Today is not a public holiday in {country_code}.\")"
   ]
  },
  {
   "cell_type": "code",
   "execution_count": 9,
   "id": "a98664e5",
   "metadata": {},
   "outputs": [
    {
     "name": "stdout",
     "output_type": "stream",
     "text": [
      "The next public holiday in US is on 2023-04-07 (18 days from today).\n"
     ]
    }
   ],
   "source": [
    "import requests\n",
    "from datetime import date\n",
    "# SchoolHolidays/{year}/{countryCode}/{region} - This endpoint returns a list of school holidays for a year, country, and region. You can specify the year, country code, and region in the URL, and the API will return a list of school holidays, along with their date and name.\n",
    "url = \"https://date.nager.at/api/v3/NextPublicHolidays/{countryCode}\"\n",
    "\n",
    "country_code = \"US\"\n",
    "\n",
    "response = requests.get(url.format(countryCode=country_code))\n",
    "data = response.json()\n",
    "\n",
    "next_holiday = date.fromisoformat(data[0][\"date\"])\n",
    "\n",
    "delta = next_holiday - date.today()\n",
    "days_until_holiday = delta.days\n",
    "\n",
    "print(f\"The next public holiday in {country_code} is on {next_holiday} ({days_until_holiday} days from today).\")"
   ]
  },
  {
   "cell_type": "code",
   "execution_count": 10,
   "id": "6c987909",
   "metadata": {},
   "outputs": [
    {
     "name": "stdout",
     "output_type": "stream",
     "text": [
      "The next public holiday worldwide is on 2023-03-20 (0 days from today).\n"
     ]
    }
   ],
   "source": [
    "import requests\n",
    "from datetime import date\n",
    "#NextPublicHolidaysWorldwide - This endpoint (absent of the (countryCode)) is used to find the next date of a national holiday worldwide, therefore there is no need for a countryCode. \n",
    "url = \"https://date.nager.at/api/v3/NextPublicHolidaysWorldwide\"\n",
    "\n",
    "response = requests.get(url)\n",
    "data = response.json()\n",
    "\n",
    "next_holiday = date.fromisoformat(data[0][\"date\"])\n",
    "\n",
    "delta = next_holiday - date.today()\n",
    "days_until_holiday = delta.days\n",
    "\n",
    "print(f\"The next public holiday worldwide is on {next_holiday} ({days_until_holiday} days from today).\")\n"
   ]
  },
  {
   "cell_type": "code",
   "execution_count": 5,
   "id": "21a76d22",
   "metadata": {},
   "outputs": [],
   "source": [
    "import csv\n",
    "import requests\n",
    "\n",
    "countries = ['US', 'CA', 'MX', 'GB', 'FR', 'DE', 'JP', 'CN', 'AU', 'NZ']\n",
    "url = 'https://date.nager.at/api/v3/PublicHolidays/{year}/{countryCode}'\n",
    "\n",
    "with open('public_holidays.csv', mode='w', newline='') as file:\n",
    "    writer = csv.writer(file)\n",
    "    writer.writerow(['Country', 'Year', 'Total Holidays'])\n",
    "    \n",
    "    for country in countries:\n",
    "        year = 2023\n",
    "        response = requests.get(url.format(year=year, countryCode=country))\n",
    "        holidays = response.json()\n",
    "        total_holidays = len(holidays)\n",
    "        writer.writerow([country, year, total_holidays])\n"
   ]
  },
  {
   "cell_type": "markdown",
   "id": "3c5c2c32",
   "metadata": {},
   "source": [
    "# BONUS"
   ]
  },
  {
   "cell_type": "code",
   "execution_count": 16,
   "id": "7b17c9d2",
   "metadata": {},
   "outputs": [],
   "source": [
    "# For the graph, I simply increased the size using the figsize function. I changed the size until the names appeared neat on the x axis.\n",
    "#I did not need a source as I had done this last semester"
   ]
  },
  {
   "cell_type": "code",
   "execution_count": 8,
   "id": "6ee25132",
   "metadata": {},
   "outputs": [
    {
     "data": {
      "image/png": "[encoded data removed]",
      "text/plain": [
       "<Figure size 720x720 with 1 Axes>"
      ]
     },
     "metadata": {
      "needs_background": "light"
     },
     "output_type": "display_data"
    }
   ],
   "source": [
    "import pandas as pd\n",
    "import matplotlib.pyplot as plt\n",
    "\n",
    "data = pd.read_csv('public_holidays.csv')\n",
    "holiday_counts = data.groupby('Country')['Total Holidays'].sum()\n",
    "\n",
    "holiday_counts.plot(kind='bar', figsize=(10, 10), color='purple')\n",
    "plt.yticks(range(0, max(holiday_counts)+5, 5))\n",
    "plt.xlabel('Country')\n",
    "plt.ylabel('Number of Public Holidays')\n",
    "plt.title('Number of Public Holidays in 10 Countries')\n",
    "\n",
    "plt.show()\n"
   ]
  },
  {
   "cell_type": "code",
   "execution_count": null,
   "id": "7814fbf1",
   "metadata": {},
   "outputs": [],
   "source": []
  }
 ],
 "metadata": {
  "kernelspec": {
   "display_name": "Python 3 (ipykernel)",
   "language": "python",
   "name": "python3"
  },
  "language_info": {
   "codemirror_mode": {
    "name": "ipython",
    "version": 3
   },
   "file_extension": ".py",
   "mimetype": "text/x-python",
   "name": "python",
   "nbconvert_exporter": "python",
   "pygments_lexer": "ipython3",
   "version": "3.9.12"
  }
 },
 "nbformat": 4,
 "nbformat_minor": 5
}
